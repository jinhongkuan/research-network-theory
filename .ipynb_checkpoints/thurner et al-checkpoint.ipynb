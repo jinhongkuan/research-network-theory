{
 "cells": [
  {
   "cell_type": "markdown",
   "id": "096bf1f2-59bb-45b2-986f-d2da4794cd2c",
   "metadata": {},
   "source": [
    "## Random Matrix Theory\n",
    "Expressing relation between random variables in a matrix form to model their pairwise interactions and analyze aggregate dynamical properties. "
   ]
  },
  {
   "cell_type": "code",
   "execution_count": 4,
   "id": "a67476fd-d272-4bcd-96d1-b67f3ca26596",
   "metadata": {},
   "outputs": [
    {
     "name": "stdout",
     "output_type": "stream",
     "text": [
      "[*********************100%***********************]  5 of 5 completed\n",
      "[*********************100%***********************]  5 of 5 completed\n"
     ]
    }
   ],
   "source": [
    "import yfinance as yf\n",
    "import pandas as pd\n",
    "\n",
    "# Define stock symbols\n",
    "stocks = ['AAPL', 'GOOG', 'MSFT', 'AMZN', 'META']\n",
    "\n",
    "# Download stock price data from Yahoo Finance\n",
    "prices = yf.download(stocks, start='2022-01-01', end='2022-02-28')['Adj Close']\n",
    "\n",
    "# Calculate daily returns\n",
    "returns = prices.pct_change().dropna()\n",
    "\n",
    "# Save returns to CSV file\n",
    "returns.to_csv('assets/tech_returns.csv')\n",
    "\n",
    "stocks = ['JPM', 'BAC', 'C', 'WFC', 'GS']\n",
    "prices = yf.download(stocks, start='2022-01-01', end='2022-02-28')['Adj Close']\n",
    "returns = prices.pct_change().dropna()\n",
    "returns.to_csv('assets/finance_returns.csv')"
   ]
  },
  {
   "cell_type": "code",
   "execution_count": 5,
   "id": "bf2f2635-9763-47ed-88b5-5bf10c9ee280",
   "metadata": {},
   "outputs": [
    {
     "name": "stdout",
     "output_type": "stream",
     "text": [
      "Portfolio 1:\n",
      "  Trace:  0.004995698886201615\n",
      "  Determinant:  1.3067976695102899e-17\n",
      "  Largest eigenvalue:  0.003545745484615937\n",
      "  Smallest eigenvalue:  7.996001696743332e-05\n",
      "\n",
      "Portfolio 2:\n",
      "  Trace:  0.0016669872069574275\n",
      "  Determinant:  3.7935886226198437e-20\n",
      "  Largest eigenvalue:  0.0012907081632153852\n",
      "  Smallest eigenvalue:  2.8835333954816838e-05\n"
     ]
    }
   ],
   "source": [
    "import numpy as np\n",
    "import pandas as pd\n",
    "from numpy.linalg import eigvals\n",
    "\n",
    "# Load portfolio data\n",
    "portfolio1 = pd.read_csv('assets/tech_returns.csv', index_col=0)\n",
    "portfolio2 = pd.read_csv('assets/finance_returns.csv', index_col=0)\n",
    "\n",
    "# Compute the covariance matrix\n",
    "cov1 = np.cov(portfolio1.T)\n",
    "cov2 = np.cov(portfolio2.T)\n",
    "\n",
    "# Compute the eigenvalues of the covariance matrix\n",
    "eigs1 = eigvals(cov1)\n",
    "eigs2 = eigvals(cov2)\n",
    "\n",
    "# Print some spectral properties\n",
    "print(\"Portfolio 1:\")\n",
    "print(\"  Trace: \", np.trace(cov1))\n",
    "print(\"  Determinant: \", np.linalg.det(cov1))\n",
    "print(\"  Largest eigenvalue: \", max(eigs1))\n",
    "print(\"  Smallest eigenvalue: \", min(eigs1))\n",
    "print()\n",
    "print(\"Portfolio 2:\")\n",
    "print(\"  Trace: \", np.trace(cov2))\n",
    "print(\"  Determinant: \", np.linalg.det(cov2))\n",
    "print(\"  Largest eigenvalue: \", max(eigs2))\n",
    "print(\"  Smallest eigenvalue: \", min(eigs2))\n"
   ]
  },
  {
   "cell_type": "markdown",
   "id": "d4c3ce63-1703-47d7-8785-e494173ae0b9",
   "metadata": {},
   "source": [
    "High trace, eigenvalues, determinant -> dominant principal component, strongly correlated stocks "
   ]
  },
  {
   "cell_type": "code",
   "execution_count": null,
   "id": "055090b4-cebb-477f-a3aa-74ccf478de9d",
   "metadata": {},
   "outputs": [],
   "source": []
  }
 ],
 "metadata": {
  "kernelspec": {
   "display_name": "Python 3 (ipykernel)",
   "language": "python",
   "name": "python3"
  },
  "language_info": {
   "codemirror_mode": {
    "name": "ipython",
    "version": 3
   },
   "file_extension": ".py",
   "mimetype": "text/x-python",
   "name": "python",
   "nbconvert_exporter": "python",
   "pygments_lexer": "ipython3",
   "version": "3.9.11"
  }
 },
 "nbformat": 4,
 "nbformat_minor": 5
}
